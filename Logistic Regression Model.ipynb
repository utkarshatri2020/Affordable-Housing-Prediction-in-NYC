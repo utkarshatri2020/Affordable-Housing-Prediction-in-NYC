{
 "cells": [
  {
   "cell_type": "markdown",
   "id": "f678bfca",
   "metadata": {},
   "source": [
    "## Creating a Logistic regression model based on ACS and HNY dataset to ultiamtely suggest which parcels need affordable housing out of the ones that currently don't have any."
   ]
  },
  {
   "cell_type": "code",
   "execution_count": 20,
   "id": "e698dad2",
   "metadata": {},
   "outputs": [],
   "source": [
    "import pandas as pd\n",
    "import numpy as np\n",
    "import matplotlib.pyplot as plt\n",
    "from sklearn import linear_model\n",
    "from sklearn.linear_model import LogisticRegression\n",
    "from sklearn.model_selection import train_test_split\n",
    "from sklearn import preprocessing\n",
    "from sklearn.decomposition import PCA\n",
    "import seaborn as sns\n",
    "from sklearn import metrics\n",
    "from sklearn.metrics import classification_report"
   ]
  },
  {
   "cell_type": "code",
   "execution_count": 318,
   "id": "02f3460d",
   "metadata": {},
   "outputs": [],
   "source": [
    "filter_df = pd.read_csv('filtered_df.csv')\n",
    "filter_df = filter_df.drop(columns = ['total population','denominator: total population for Hispanic or Latino',\n",
    "       'total: Hispanic or Latino (any race)', 'Census Tract FIPS 2010'])\n",
    "filter_df0 = filter_df[(filter_df['is_HNY']==0.0)] # creating a dataframe with only over represented class rows\n",
    "filter_df0_sample = filter_df0.sample(4000) # Under sampling the over represented class to remove imbalance\n",
    "filter_df1 = filter_df[(filter_df['is_HNY']==1.0)]\n",
    "sampled_df = pd.concat([filter_df0_sample, filter_df1]) # concatinating data from both classes\n",
    "sampled_df1 = sampled_df.sample(frac=1, random_state = 1) # shuffling the data\n",
    "sampled_df1 = sampled_df1.drop(columns = ['IRRLOTCODE']) "
   ]
  },
  {
   "cell_type": "code",
   "execution_count": 319,
   "id": "a637fbf2",
   "metadata": {},
   "outputs": [],
   "source": [
    "# Defining features and target variable\n",
    "xf_df = sampled_df1.iloc[:,:27]\n",
    "yf_df = pd.DataFrame(sampled_df1.iloc[:,28])"
   ]
  },
  {
   "cell_type": "code",
   "execution_count": 320,
   "id": "de0145b1",
   "metadata": {},
   "outputs": [],
   "source": [
    "# Creating train test split\n",
    "Xtr, Xts, ytr, yts = train_test_split(xf_df, yf_df, test_size = 0.2, random_state = 13)"
   ]
  },
  {
   "cell_type": "markdown",
   "id": "69e9db38",
   "metadata": {},
   "source": [
    "## We need to increase the recall value of the evaluation metric in our model because we want to come up with a list of all parcels which should have affordable housing based on the demographic data of that parcel."
   ]
  },
  {
   "cell_type": "code",
   "execution_count": 361,
   "id": "33649bec",
   "metadata": {},
   "outputs": [
    {
     "name": "stderr",
     "output_type": "stream",
     "text": [
      "/Users/utkarshatri/opt/anaconda3/envs/atri/lib/python3.9/site-packages/sklearn/utils/validation.py:63: DataConversionWarning: A column-vector y was passed when a 1d array was expected. Please change the shape of y to (n_samples, ), for example using ravel().\n",
      "  return f(*args, **kwargs)\n"
     ]
    }
   ],
   "source": [
    "# Making a Logistic Regression model\n",
    "logist = LogisticRegression(C=1e5,class_weight='unbalanced')\n",
    "logist.fit(Xtr, ytr)\n",
    "#yhat = logist.predict(Xts)\n",
    "yhat = (logist.predict_proba(Xts)[:,1] >= 0.352).astype(float)\n",
    "yts = np.array(yts)"
   ]
  },
  {
   "cell_type": "code",
   "execution_count": 362,
   "id": "7396a940",
   "metadata": {},
   "outputs": [
    {
     "data": {
      "text/plain": [
       "1.0"
      ]
     },
     "execution_count": 362,
     "metadata": {},
     "output_type": "execute_result"
    }
   ],
   "source": [
    "yhat[34]"
   ]
  },
  {
   "cell_type": "code",
   "execution_count": 363,
   "id": "1648ad8c",
   "metadata": {},
   "outputs": [],
   "source": [
    "# Calculating Confusion Matrix\n",
    "cm = metrics.confusion_matrix(yts, yhat)"
   ]
  },
  {
   "cell_type": "code",
   "execution_count": 366,
   "id": "197477d1",
   "metadata": {},
   "outputs": [
    {
     "name": "stdout",
     "output_type": "stream",
     "text": [
      "0.6538210320052253\n"
     ]
    },
    {
     "data": {
      "image/png": "[encoded data removed]",
      "text/plain": [
       "<Figure size 648x648 with 2 Axes>"
      ]
     },
     "metadata": {
      "needs_background": "light"
     },
     "output_type": "display_data"
    }
   ],
   "source": [
    "# Calculating score and visualising Confusion matrix\n",
    "score = logist.score(Xts, yts)\n",
    "print(score)\n",
    "plt.figure(figsize=(9,9))\n",
    "sns.heatmap(cm, annot=True, fmt=\".3f\", linewidths=.5, square = True, cmap = 'Blues_r');\n",
    "plt.ylabel('Actual label');\n",
    "plt.xlabel('Predicted label');\n",
    "plt.title('Confusion Matrix', size = 15);"
   ]
  },
  {
   "cell_type": "code",
   "execution_count": 367,
   "id": "12b41677",
   "metadata": {},
   "outputs": [
    {
     "name": "stdout",
     "output_type": "stream",
     "text": [
      "              precision    recall  f1-score   support\n",
      "\n",
      "         0.0       0.82      0.76      0.79       807\n",
      "         1.0       0.75      0.81      0.78       724\n",
      "\n",
      "    accuracy                           0.79      1531\n",
      "   macro avg       0.79      0.79      0.79      1531\n",
      "weighted avg       0.79      0.79      0.79      1531\n",
      "\n"
     ]
    }
   ],
   "source": [
    "labels = ['0.0', '1.0']\n",
    "print(classification_report(yts, yhat, target_names=labels))"
   ]
  },
  {
   "cell_type": "code",
   "execution_count": 386,
   "id": "19e1aa66",
   "metadata": {},
   "outputs": [],
   "source": [
    "# Using our trained model to make suggestion about where should affordable housing be created.\n",
    "suggest_df = filter_df0\n",
    "#suggest_df = filter_df0.sample(600000)\n",
    "suggest_df_1 = suggest_df.drop(columns = ['IRRLOTCODE'])\n",
    "x_sug = suggest_df_1.iloc[:,:27]\n",
    "y_sug = pd.DataFrame(suggest_df_1.iloc[:,28])"
   ]
  },
  {
   "cell_type": "code",
   "execution_count": 387,
   "id": "a015dd96",
   "metadata": {},
   "outputs": [],
   "source": [
    "yhat_sug = np.array(logist.predict(x_sug))"
   ]
  },
  {
   "cell_type": "code",
   "execution_count": 388,
   "id": "e38e1720",
   "metadata": {},
   "outputs": [],
   "source": [
    "yhat_sug_1 = yhat_sug[np.where(yhat_sug==1.0)]"
   ]
  },
  {
   "cell_type": "code",
   "execution_count": 389,
   "id": "8ebfea0e",
   "metadata": {},
   "outputs": [
    {
     "name": "stdout",
     "output_type": "stream",
     "text": [
      "No. of parcels where we suggest the government to build affordable housing : 21818\n"
     ]
    }
   ],
   "source": [
    "print('No. of parcels where we suggest the government to build affordable housing :', len(yhat_sug_1))"
   ]
  },
  {
   "cell_type": "code",
   "execution_count": 391,
   "id": "7dd574cf",
   "metadata": {},
   "outputs": [],
   "source": [
    "a = np.array(np.where(yhat_sug==1.0))\n",
    "a = a.tolist()"
   ]
  },
  {
   "cell_type": "code",
   "execution_count": 270,
   "id": "9d3dcef6",
   "metadata": {},
   "outputs": [],
   "source": [
    "#yhat_sug_0 = yhat_sug[np.where(yhat_sug==0.0)]"
   ]
  },
  {
   "cell_type": "code",
   "execution_count": 19,
   "id": "23c652f0",
   "metadata": {},
   "outputs": [],
   "source": [
    "#len(yhat_sug_0)"
   ]
  },
  {
   "cell_type": "code",
   "execution_count": null,
   "id": "106dba1c",
   "metadata": {},
   "outputs": [],
   "source": []
  },
  {
   "cell_type": "code",
   "execution_count": null,
   "id": "58ceecb3",
   "metadata": {},
   "outputs": [],
   "source": []
  },
  {
   "cell_type": "markdown",
   "id": "e47c7ded",
   "metadata": {},
   "source": [
    "## Logistic Regression Using PCA"
   ]
  },
  {
   "cell_type": "code",
   "execution_count": 393,
   "id": "c4a417f1",
   "metadata": {},
   "outputs": [],
   "source": [
    "scaler = preprocessing.StandardScaler().fit(xf_df)"
   ]
  },
  {
   "cell_type": "code",
   "execution_count": 394,
   "id": "d65a0bd1",
   "metadata": {},
   "outputs": [],
   "source": [
    "xf_df_scaled = scaler.transform(xf_df)"
   ]
  },
  {
   "cell_type": "code",
   "execution_count": 470,
   "id": "a9c8776d",
   "metadata": {},
   "outputs": [],
   "source": [
    "pca = PCA(xf_df_scaled.shape[1])"
   ]
  },
  {
   "cell_type": "code",
   "execution_count": 471,
   "id": "d3284faf",
   "metadata": {},
   "outputs": [],
   "source": [
    "xf_df_principal = pca.fit_transform(xf_df_scaled)"
   ]
  },
  {
   "cell_type": "code",
   "execution_count": 472,
   "id": "24db2e0c",
   "metadata": {},
   "outputs": [
    {
     "data": {
      "image/png": "[encoded data removed]",
      "text/plain": [
       "<Figure size 432x288 with 1 Axes>"
      ]
     },
     "metadata": {
      "needs_background": "light"
     },
     "output_type": "display_data"
    }
   ],
   "source": [
    "eigenvalues = pca.explained_variance_ratio_\n",
    "n=7\n",
    "plt.bar(np.arange(n), eigenvalues[:n].cumsum())\n",
    "plt.xlabel(\"Number of components\")\n",
    "plt.ylabel(\"Explained Variance\")\n",
    "plt.show()"
   ]
  },
  {
   "cell_type": "code",
   "execution_count": 473,
   "id": "303b3b2f",
   "metadata": {},
   "outputs": [],
   "source": [
    "pca1 = PCA(n)\n",
    "xf_df_principal1 = pca1.fit_transform(xf_df_scaled)"
   ]
  },
  {
   "cell_type": "code",
   "execution_count": 474,
   "id": "5b00cfb2",
   "metadata": {},
   "outputs": [
    {
     "name": "stderr",
     "output_type": "stream",
     "text": [
      "/Users/utkarshatri/opt/anaconda3/envs/atri/lib/python3.9/site-packages/sklearn/utils/validation.py:63: DataConversionWarning: A column-vector y was passed when a 1d array was expected. Please change the shape of y to (n_samples, ), for example using ravel().\n",
      "  return f(*args, **kwargs)\n"
     ]
    }
   ],
   "source": [
    "Xtr_pca, Xts_pca, ytr_pca, yts_pca = train_test_split(xf_df_principal1, yf_df, test_size = 0.2, random_state=13)\n",
    "logist_pca = LogisticRegression(C=1e5,class_weight='unbalanced')\n",
    "logist_pca.fit(Xtr_pca, ytr_pca)\n",
    "#yhat_pca = logist_pca.predict(Xts_pca)\n",
    "yhat_pca = (logist_pca.predict_proba(Xts_pca)[:,1] >= 0.352).astype(float)\n",
    "yts_pca = np.array(yts_pca)"
   ]
  },
  {
   "cell_type": "code",
   "execution_count": 475,
   "id": "f6ce949e",
   "metadata": {},
   "outputs": [],
   "source": [
    "cm = metrics.confusion_matrix(yts_pca, yhat_pca)"
   ]
  },
  {
   "cell_type": "code",
   "execution_count": 476,
   "id": "8307ef01",
   "metadata": {},
   "outputs": [
    {
     "name": "stdout",
     "output_type": "stream",
     "text": [
      "0.8184193337687786\n"
     ]
    },
    {
     "data": {
      "image/png": "[encoded data removed]",
      "text/plain": [
       "<Figure size 648x648 with 2 Axes>"
      ]
     },
     "metadata": {
      "needs_background": "light"
     },
     "output_type": "display_data"
    }
   ],
   "source": [
    "score = logist_pca.score(Xts_pca, yts_pca)\n",
    "plt.figure(figsize=(9,9))\n",
    "sns.heatmap(cm, annot=True, fmt=\".3f\", linewidths=.5, square = True, cmap = 'Blues_r');\n",
    "plt.ylabel('Actual label');\n",
    "plt.xlabel('Predicted label');\n",
    "plt.title('Confusion Matrix', size = 15);\n",
    "print(score)"
   ]
  },
  {
   "cell_type": "code",
   "execution_count": 477,
   "id": "8da899d5",
   "metadata": {},
   "outputs": [
    {
     "name": "stdout",
     "output_type": "stream",
     "text": [
      "              precision    recall  f1-score   support\n",
      "\n",
      "         0.0       0.90      0.78      0.84       807\n",
      "         1.0       0.79      0.90      0.84       724\n",
      "\n",
      "    accuracy                           0.84      1531\n",
      "   macro avg       0.84      0.84      0.84      1531\n",
      "weighted avg       0.85      0.84      0.84      1531\n",
      "\n"
     ]
    }
   ],
   "source": [
    "labels = ['0.0', '1.0']\n",
    "print(classification_report(yts_pca, yhat_pca, target_names=labels))"
   ]
  },
  {
   "cell_type": "code",
   "execution_count": 478,
   "id": "184b898c",
   "metadata": {},
   "outputs": [],
   "source": [
    "x_sug_principal = pca1.fit_transform(x_sug)"
   ]
  },
  {
   "cell_type": "code",
   "execution_count": 479,
   "id": "2f2eeaf1",
   "metadata": {},
   "outputs": [],
   "source": [
    "yhat_sug_pca = np.array(logist_pca.predict(x_sug_principal))"
   ]
  },
  {
   "cell_type": "code",
   "execution_count": 480,
   "id": "d733042c",
   "metadata": {},
   "outputs": [],
   "source": [
    "yhat_sug_pca_1 = yhat_sug_pca[np.where(yhat_sug_pca==1.0)]"
   ]
  },
  {
   "cell_type": "code",
   "execution_count": 481,
   "id": "aa18f893",
   "metadata": {},
   "outputs": [
    {
     "name": "stdout",
     "output_type": "stream",
     "text": [
      "No. of parcels where we suggest the government to build affordable housing : 21818\n"
     ]
    }
   ],
   "source": [
    "print('No. of parcels where we suggest the government to build affordable housing :', len(yhat_sug_1))"
   ]
  },
  {
   "cell_type": "code",
   "execution_count": 483,
   "id": "0d34cdd5",
   "metadata": {},
   "outputs": [],
   "source": [
    "p = np.array(np.where(yhat_sug_pca==1.0))\n",
    "p = p.tolist()\n",
    "# P is a list of indices where our model recommends affordable housing to be built"
   ]
  },
  {
   "cell_type": "code",
   "execution_count": null,
   "id": "a31605ec",
   "metadata": {},
   "outputs": [],
   "source": []
  }
 ],
 "metadata": {
  "kernelspec": {
   "display_name": "Python 3 (ipykernel)",
   "language": "python",
   "name": "python3"
  },
  "language_info": {
   "codemirror_mode": {
    "name": "ipython",
    "version": 3
   },
   "file_extension": ".py",
   "mimetype": "text/x-python",
   "name": "python",
   "nbconvert_exporter": "python",
   "pygments_lexer": "ipython3",
   "version": "3.9.12"
  }
 },
 "nbformat": 4,
 "nbformat_minor": 5
}
